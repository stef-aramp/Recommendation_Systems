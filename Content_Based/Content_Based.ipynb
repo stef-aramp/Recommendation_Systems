{
 "cells": [
  {
   "cell_type": "markdown",
   "metadata": {},
   "source": [
    "## Content Based Recommendation System for Anime\n",
    "\n",
    "This is my first attempt on recommender systems. On the next lines, I will build a Content Based Recommendation system using **unsupervised Nearest Neighbors learning**. This recommender is based on item features like genre, type(movie, t.v., etc), number of episodes, rating and few more. \n",
    "\n",
    "**A C-B recommender is a non-personalized system. Actually is based on information on the content of items rather than on other users’ opinions/interactions.** A pure content-based recommender system makes recommendations for a user based solely on the profile built up by analyzing the content of items which that user has rated in the past.\n",
    "\n",
    "#### So, what a CB Recommender is ?\n",
    "\n",
    "- It can be attributes or characteristics of the item. For example for a film: Genre, Year, Cast, etc.\n",
    "- It can also be textual content (title, description, table of content etc.). For example NLP techniques to extract content features.\n",
    "- Can be extracted from the signa itself (audio, image).\n",
    "\n",
    "\n",
    "#### Pros(+)  &  Cons(-)\n",
    "\n",
    "Pros :\n",
    "- No need for data on other users.\n",
    "    - No cold-start or sparsity problems.\n",
    "- Able to recommend to users with unique tastes.\n",
    "-  Able to recommend new and unpopular items\n",
    "    - No first-rater problem.\n",
    "- ...\n",
    "\n",
    "Cons :\n",
    "- Requires content that can be encoded as meaningful features.\n",
    "- Some kind of items are not amenable to easy feature extraction methods (e.g. movies, music)\n",
    "- Users’ tastes must be represented as a learnable function of these content features.\n",
    "- Hard to exploit quality judgements of other users.\n",
    "- Easy to overfit.\n",
    "- ...\n",
    "\n",
    "### We're ready to analyze  Anime Recommendations Database\n",
    "\n",
    "This data set contains information on user preference data from 73,516 users on 12,294 anime. Each user is able to add anime to their completed list and give it a rating and this data set is a compilation of those ratings.\n",
    "\n",
    "Anime.csv\n",
    "\n",
    "- anime_id : myanimelist.net's unique id identifying an anime.\n",
    "- name : full name of anime.\n",
    "- genre : comma separated list of genres for this anime.\n",
    "- type : movie, TV, OVA, etc.\n",
    "- episodes : how many episodes in this show. (1 if movie).\n",
    "- rating : average rating out of 10 for this anime.\n",
    "- members : number of community members that are in this anime's \"group\".\n",
    "\n",
    "**Feel free to download dataset from [here](https://www.kaggle.com/CooperUnion/anime-recommendations-database)**"
   ]
  },
  {
   "cell_type": "code",
   "execution_count": 1,
   "metadata": {
    "collapsed": false
   },
   "outputs": [
    {
     "data": {
      "text/html": [
       "<div>\n",
       "<table border=\"1\" class=\"dataframe\">\n",
       "  <thead>\n",
       "    <tr style=\"text-align: right;\">\n",
       "      <th></th>\n",
       "      <th>anime_id</th>\n",
       "      <th>name</th>\n",
       "      <th>genre</th>\n",
       "      <th>type</th>\n",
       "      <th>episodes</th>\n",
       "      <th>rating</th>\n",
       "      <th>members</th>\n",
       "    </tr>\n",
       "  </thead>\n",
       "  <tbody>\n",
       "    <tr>\n",
       "      <th>0</th>\n",
       "      <td>32281</td>\n",
       "      <td>Kimi no Na wa.</td>\n",
       "      <td>Drama, Romance, School, Supernatural</td>\n",
       "      <td>Movie</td>\n",
       "      <td>1</td>\n",
       "      <td>9.37</td>\n",
       "      <td>200630</td>\n",
       "    </tr>\n",
       "    <tr>\n",
       "      <th>1</th>\n",
       "      <td>5114</td>\n",
       "      <td>Fullmetal Alchemist: Brotherhood</td>\n",
       "      <td>Action, Adventure, Drama, Fantasy, Magic, Mili...</td>\n",
       "      <td>TV</td>\n",
       "      <td>64</td>\n",
       "      <td>9.26</td>\n",
       "      <td>793665</td>\n",
       "    </tr>\n",
       "    <tr>\n",
       "      <th>2</th>\n",
       "      <td>28977</td>\n",
       "      <td>Gintama°</td>\n",
       "      <td>Action, Comedy, Historical, Parody, Samurai, S...</td>\n",
       "      <td>TV</td>\n",
       "      <td>51</td>\n",
       "      <td>9.25</td>\n",
       "      <td>114262</td>\n",
       "    </tr>\n",
       "  </tbody>\n",
       "</table>\n",
       "</div>"
      ],
      "text/plain": [
       "   anime_id                              name  \\\n",
       "0     32281                    Kimi no Na wa.   \n",
       "1      5114  Fullmetal Alchemist: Brotherhood   \n",
       "2     28977                          Gintama°   \n",
       "\n",
       "                                               genre   type episodes  rating  \\\n",
       "0               Drama, Romance, School, Supernatural  Movie        1    9.37   \n",
       "1  Action, Adventure, Drama, Fantasy, Magic, Mili...     TV       64    9.26   \n",
       "2  Action, Comedy, Historical, Parody, Samurai, S...     TV       51    9.25   \n",
       "\n",
       "   members  \n",
       "0   200630  \n",
       "1   793665  \n",
       "2   114262  "
      ]
     },
     "execution_count": 1,
     "metadata": {},
     "output_type": "execute_result"
    }
   ],
   "source": [
    "# import libraries\n",
    "\n",
    "import pandas as pd\n",
    "import numpy as np\n",
    "\n",
    "anime = pd.read_csv('anime.csv')\n",
    "anime.head(3)"
   ]
  },
  {
   "cell_type": "code",
   "execution_count": 2,
   "metadata": {
    "collapsed": false
   },
   "outputs": [
    {
     "name": "stdout",
     "output_type": "stream",
     "text": [
      "<class 'pandas.core.frame.DataFrame'>\n",
      "RangeIndex: 12294 entries, 0 to 12293\n",
      "Data columns (total 7 columns):\n",
      "anime_id    12294 non-null int64\n",
      "name        12294 non-null object\n",
      "genre       12232 non-null object\n",
      "type        12269 non-null object\n",
      "episodes    12294 non-null object\n",
      "rating      12064 non-null float64\n",
      "members     12294 non-null int64\n",
      "dtypes: float64(1), int64(2), object(4)\n",
      "memory usage: 672.4+ KB\n"
     ]
    }
   ],
   "source": [
    "anime.info()"
   ]
  },
  {
   "cell_type": "markdown",
   "metadata": {},
   "source": [
    "First thoughts on attributes : \n",
    "\n",
    "- 'genre' is a list of genres. We will take a better view of this feature later.\n",
    "-  episodes, although seems to be integers, are strings.\n",
    "\n",
    "We must fix these to prepare our algorithm's inputs!"
   ]
  },
  {
   "cell_type": "code",
   "execution_count": 3,
   "metadata": {
    "collapsed": false
   },
   "outputs": [
    {
     "data": {
      "text/html": [
       "<div>\n",
       "<table border=\"1\" class=\"dataframe\">\n",
       "  <thead>\n",
       "    <tr style=\"text-align: right;\">\n",
       "      <th></th>\n",
       "      <th>anime_id</th>\n",
       "      <th>rating</th>\n",
       "      <th>members</th>\n",
       "    </tr>\n",
       "  </thead>\n",
       "  <tbody>\n",
       "    <tr>\n",
       "      <th>count</th>\n",
       "      <td>12294.000000</td>\n",
       "      <td>12064.000000</td>\n",
       "      <td>1.229400e+04</td>\n",
       "    </tr>\n",
       "    <tr>\n",
       "      <th>mean</th>\n",
       "      <td>14058.221653</td>\n",
       "      <td>6.473902</td>\n",
       "      <td>1.807134e+04</td>\n",
       "    </tr>\n",
       "    <tr>\n",
       "      <th>std</th>\n",
       "      <td>11455.294701</td>\n",
       "      <td>1.026746</td>\n",
       "      <td>5.482068e+04</td>\n",
       "    </tr>\n",
       "    <tr>\n",
       "      <th>min</th>\n",
       "      <td>1.000000</td>\n",
       "      <td>1.670000</td>\n",
       "      <td>5.000000e+00</td>\n",
       "    </tr>\n",
       "    <tr>\n",
       "      <th>25%</th>\n",
       "      <td>3484.250000</td>\n",
       "      <td>5.880000</td>\n",
       "      <td>2.250000e+02</td>\n",
       "    </tr>\n",
       "    <tr>\n",
       "      <th>50%</th>\n",
       "      <td>10260.500000</td>\n",
       "      <td>6.570000</td>\n",
       "      <td>1.550000e+03</td>\n",
       "    </tr>\n",
       "    <tr>\n",
       "      <th>75%</th>\n",
       "      <td>24794.500000</td>\n",
       "      <td>7.180000</td>\n",
       "      <td>9.437000e+03</td>\n",
       "    </tr>\n",
       "    <tr>\n",
       "      <th>max</th>\n",
       "      <td>34527.000000</td>\n",
       "      <td>10.000000</td>\n",
       "      <td>1.013917e+06</td>\n",
       "    </tr>\n",
       "  </tbody>\n",
       "</table>\n",
       "</div>"
      ],
      "text/plain": [
       "           anime_id        rating       members\n",
       "count  12294.000000  12064.000000  1.229400e+04\n",
       "mean   14058.221653      6.473902  1.807134e+04\n",
       "std    11455.294701      1.026746  5.482068e+04\n",
       "min        1.000000      1.670000  5.000000e+00\n",
       "25%     3484.250000      5.880000  2.250000e+02\n",
       "50%    10260.500000      6.570000  1.550000e+03\n",
       "75%    24794.500000      7.180000  9.437000e+03\n",
       "max    34527.000000     10.000000  1.013917e+06"
      ]
     },
     "execution_count": 3,
     "metadata": {},
     "output_type": "execute_result"
    }
   ],
   "source": [
    "anime.describe()"
   ]
  },
  {
   "cell_type": "markdown",
   "metadata": {},
   "source": [
    "### Mess with 'type' and 'episodes'"
   ]
  },
  {
   "cell_type": "code",
   "execution_count": 4,
   "metadata": {
    "collapsed": false
   },
   "outputs": [
    {
     "data": {
      "text/plain": [
       "TV         3787\n",
       "OVA        3311\n",
       "Movie      2348\n",
       "Special    1676\n",
       "ONA         659\n",
       "Music       488\n",
       "Name: type, dtype: int64"
      ]
     },
     "execution_count": 4,
     "metadata": {},
     "output_type": "execute_result"
    }
   ],
   "source": [
    "anime.type.value_counts()"
   ]
  },
  {
   "cell_type": "code",
   "execution_count": 5,
   "metadata": {
    "collapsed": false
   },
   "outputs": [
    {
     "name": "stdout",
     "output_type": "stream",
     "text": [
      "Anime with unknown episodes : 340\n",
      "TV         209\n",
      "OVA         50\n",
      "ONA         46\n",
      "Special      5\n",
      "Movie        4\n",
      "Music        1\n",
      "Name: type, dtype: int64\n"
     ]
    },
    {
     "data": {
      "text/html": [
       "<div>\n",
       "<table border=\"1\" class=\"dataframe\">\n",
       "  <thead>\n",
       "    <tr style=\"text-align: right;\">\n",
       "      <th></th>\n",
       "      <th>anime_id</th>\n",
       "      <th>name</th>\n",
       "      <th>genre</th>\n",
       "      <th>type</th>\n",
       "      <th>episodes</th>\n",
       "      <th>rating</th>\n",
       "      <th>members</th>\n",
       "    </tr>\n",
       "  </thead>\n",
       "  <tbody>\n",
       "    <tr>\n",
       "      <th>74</th>\n",
       "      <td>21</td>\n",
       "      <td>One Piece</td>\n",
       "      <td>Action, Adventure, Comedy, Drama, Fantasy, Sho...</td>\n",
       "      <td>TV</td>\n",
       "      <td>Unknown</td>\n",
       "      <td>8.58</td>\n",
       "      <td>504862</td>\n",
       "    </tr>\n",
       "    <tr>\n",
       "      <th>252</th>\n",
       "      <td>235</td>\n",
       "      <td>Detective Conan</td>\n",
       "      <td>Adventure, Comedy, Mystery, Police, Shounen</td>\n",
       "      <td>TV</td>\n",
       "      <td>Unknown</td>\n",
       "      <td>8.25</td>\n",
       "      <td>114702</td>\n",
       "    </tr>\n",
       "    <tr>\n",
       "      <th>615</th>\n",
       "      <td>1735</td>\n",
       "      <td>Naruto: Shippuuden</td>\n",
       "      <td>Action, Comedy, Martial Arts, Shounen, Super P...</td>\n",
       "      <td>TV</td>\n",
       "      <td>Unknown</td>\n",
       "      <td>7.94</td>\n",
       "      <td>533578</td>\n",
       "    </tr>\n",
       "    <tr>\n",
       "      <th>991</th>\n",
       "      <td>966</td>\n",
       "      <td>Crayon Shin-chan</td>\n",
       "      <td>Comedy, Ecchi, Kids, School, Shounen, Slice of...</td>\n",
       "      <td>TV</td>\n",
       "      <td>Unknown</td>\n",
       "      <td>7.73</td>\n",
       "      <td>26267</td>\n",
       "    </tr>\n",
       "    <tr>\n",
       "      <th>1021</th>\n",
       "      <td>33157</td>\n",
       "      <td>Tanaka-kun wa Itsumo Kedaruge Specials</td>\n",
       "      <td>Comedy, School, Slice of Life</td>\n",
       "      <td>Special</td>\n",
       "      <td>Unknown</td>\n",
       "      <td>7.72</td>\n",
       "      <td>5400</td>\n",
       "    </tr>\n",
       "    <tr>\n",
       "      <th>1272</th>\n",
       "      <td>21639</td>\n",
       "      <td>Yu☆Gi☆Oh! Arc-V</td>\n",
       "      <td>Action, Fantasy, Game, Shounen</td>\n",
       "      <td>TV</td>\n",
       "      <td>Unknown</td>\n",
       "      <td>7.61</td>\n",
       "      <td>17571</td>\n",
       "    </tr>\n",
       "    <tr>\n",
       "      <th>1309</th>\n",
       "      <td>8687</td>\n",
       "      <td>Doraemon (2005)</td>\n",
       "      <td>Comedy, Kids, Sci-Fi, Shounen</td>\n",
       "      <td>TV</td>\n",
       "      <td>Unknown</td>\n",
       "      <td>7.59</td>\n",
       "      <td>2980</td>\n",
       "    </tr>\n",
       "    <tr>\n",
       "      <th>1928</th>\n",
       "      <td>32410</td>\n",
       "      <td>Dimension W: W no Tobira Online</td>\n",
       "      <td>Sci-Fi, Seinen</td>\n",
       "      <td>Special</td>\n",
       "      <td>Unknown</td>\n",
       "      <td>7.40</td>\n",
       "      <td>4799</td>\n",
       "    </tr>\n",
       "    <tr>\n",
       "      <th>1930</th>\n",
       "      <td>30694</td>\n",
       "      <td>Dragon Ball Super</td>\n",
       "      <td>Action, Adventure, Comedy, Fantasy, Martial Ar...</td>\n",
       "      <td>TV</td>\n",
       "      <td>Unknown</td>\n",
       "      <td>7.40</td>\n",
       "      <td>111443</td>\n",
       "    </tr>\n",
       "    <tr>\n",
       "      <th>1993</th>\n",
       "      <td>32977</td>\n",
       "      <td>Aggressive Retsuko</td>\n",
       "      <td>Comedy, Music</td>\n",
       "      <td>TV</td>\n",
       "      <td>Unknown</td>\n",
       "      <td>7.38</td>\n",
       "      <td>5465</td>\n",
       "    </tr>\n",
       "  </tbody>\n",
       "</table>\n",
       "</div>"
      ],
      "text/plain": [
       "      anime_id                                    name  \\\n",
       "74          21                               One Piece   \n",
       "252        235                         Detective Conan   \n",
       "615       1735                      Naruto: Shippuuden   \n",
       "991        966                        Crayon Shin-chan   \n",
       "1021     33157  Tanaka-kun wa Itsumo Kedaruge Specials   \n",
       "1272     21639                         Yu☆Gi☆Oh! Arc-V   \n",
       "1309      8687                         Doraemon (2005)   \n",
       "1928     32410         Dimension W: W no Tobira Online   \n",
       "1930     30694                       Dragon Ball Super   \n",
       "1993     32977                      Aggressive Retsuko   \n",
       "\n",
       "                                                  genre     type episodes  \\\n",
       "74    Action, Adventure, Comedy, Drama, Fantasy, Sho...       TV  Unknown   \n",
       "252         Adventure, Comedy, Mystery, Police, Shounen       TV  Unknown   \n",
       "615   Action, Comedy, Martial Arts, Shounen, Super P...       TV  Unknown   \n",
       "991   Comedy, Ecchi, Kids, School, Shounen, Slice of...       TV  Unknown   \n",
       "1021                      Comedy, School, Slice of Life  Special  Unknown   \n",
       "1272                     Action, Fantasy, Game, Shounen       TV  Unknown   \n",
       "1309                      Comedy, Kids, Sci-Fi, Shounen       TV  Unknown   \n",
       "1928                                     Sci-Fi, Seinen  Special  Unknown   \n",
       "1930  Action, Adventure, Comedy, Fantasy, Martial Ar...       TV  Unknown   \n",
       "1993                                      Comedy, Music       TV  Unknown   \n",
       "\n",
       "      rating  members  \n",
       "74      8.58   504862  \n",
       "252     8.25   114702  \n",
       "615     7.94   533578  \n",
       "991     7.73    26267  \n",
       "1021    7.72     5400  \n",
       "1272    7.61    17571  \n",
       "1309    7.59     2980  \n",
       "1928    7.40     4799  \n",
       "1930    7.40   111443  \n",
       "1993    7.38     5465  "
      ]
     },
     "execution_count": 5,
     "metadata": {},
     "output_type": "execute_result"
    }
   ],
   "source": [
    "print('Anime with unknown episodes :',anime.loc[anime['episodes']=='Unknown']['episodes'].count())\n",
    "print(anime.loc[anime['episodes']=='Unknown']['type'].value_counts())\n",
    "anime.loc[anime['episodes']=='Unknown'][:10]"
   ]
  },
  {
   "cell_type": "markdown",
   "metadata": {},
   "source": [
    "It's time consuming to find out every single number of episodes for 340 anime titles. However, we can replace some... **'Special' and 'Movie'** episodes are equals to 1. I think that, there is not a movie with 3,6,10 or more episodes! \n",
    "\n",
    "Anime 'Hentai' genre: Hentai anime are OVA's. OVA stands for Original Video Animation. Usually either **stand-alone episodes**, or about under 10-ish episodes long. [Source](http://www.animenewsnetwork.com/encyclopedia/lexicon.php?id=37)\n",
    "\n",
    "I will replace every unknown Hentai episode number with 1.\n"
   ]
  },
  {
   "cell_type": "code",
   "execution_count": 6,
   "metadata": {
    "collapsed": false
   },
   "outputs": [],
   "source": [
    "# Notice that we replace with a string at this time.\n",
    "# replace episodes for Specials and Movies\n",
    "\n",
    "anime.loc[(anime['type'] == 'Special') & (anime['episodes'] == 'Unknown'), 'episodes'] = '1'\n",
    "anime.loc[(anime['type'] == 'Movie') & (anime['episodes'] == 'Unknown'), 'episodes'] = '1'\n",
    "\n",
    "# replace episodes for Hentai genre\n",
    "\n",
    "anime.loc[(anime['genre'] == 'Hentai') & (anime['episodes'] == 'Unknown'), 'episodes'] = '1'\n"
   ]
  },
  {
   "cell_type": "code",
   "execution_count": 7,
   "metadata": {
    "collapsed": false
   },
   "outputs": [
    {
     "data": {
      "text/plain": [
       "count     12294\n",
       "unique      187\n",
       "top           1\n",
       "freq       5722\n",
       "Name: episodes, dtype: object"
      ]
     },
     "execution_count": 7,
     "metadata": {},
     "output_type": "execute_result"
    }
   ],
   "source": [
    "anime.episodes.describe()"
   ]
  },
  {
   "cell_type": "markdown",
   "metadata": {},
   "source": [
    "Well, we must change the dtype of episodes. Must be numeric feature to be used as an input."
   ]
  },
  {
   "cell_type": "code",
   "execution_count": 8,
   "metadata": {
    "collapsed": false
   },
   "outputs": [
    {
     "data": {
      "text/plain": [
       "count    11999.000000\n",
       "mean        12.339862\n",
       "std         46.782557\n",
       "min          1.000000\n",
       "25%          1.000000\n",
       "50%          2.000000\n",
       "75%         12.000000\n",
       "max       1818.000000\n",
       "Name: episodes, dtype: float64"
      ]
     },
     "execution_count": 8,
     "metadata": {},
     "output_type": "execute_result"
    }
   ],
   "source": [
    "# strings became integers and Unknown are now NaNs.\n",
    "anime['episodes'] = anime['episodes'].apply(pd.to_numeric, errors='ignore')\n",
    "anime = anime.replace({'episodes' : { 'Unknown': np.nan}})\n",
    "\n",
    "anime.episodes.describe()"
   ]
  },
  {
   "cell_type": "markdown",
   "metadata": {},
   "source": [
    "### Missing Values and how we can handle them.\n",
    "\n",
    "Whenever we have to mess with nans, I suggest exploring if their total number is important enough compared to the total rows of dataset."
   ]
  },
  {
   "cell_type": "code",
   "execution_count": 9,
   "metadata": {
    "collapsed": false
   },
   "outputs": [
    {
     "name": "stdout",
     "output_type": "stream",
     "text": [
      "Missing Values : \n",
      " anime_id      0\n",
      "name          0\n",
      "genre        62\n",
      "type         25\n",
      "episodes    295\n",
      "rating      230\n",
      "members       0\n",
      "dtype: int64\n",
      "\n",
      "Percentages...\n",
      "\n",
      "episodes 2.4 %\n",
      "rating 1.87 %\n",
      "genre 0.5 %\n",
      "type 0.2 %\n"
     ]
    }
   ],
   "source": [
    "print('Missing Values : \\n', anime.isnull().sum())\n",
    "\n",
    "nan_percentiles = round(anime.isnull().sum().sort_values(ascending=False)/len(anime)*100,2)\n",
    "print('')\n",
    "print('Percentages...\\n')\n",
    "for i in range(len(nan_percentiles)):\n",
    "    if nan_percentiles[i] > 0:\n",
    "        print(nan_percentiles.index[i], nan_percentiles[i],'%')\n"
   ]
  },
  {
   "cell_type": "markdown",
   "metadata": {},
   "source": [
    "We could search for missing episodes values and replace them manually. Or we could replace the NaNs with the median of episodes. However, I will drop out all the missing values."
   ]
  },
  {
   "cell_type": "code",
   "execution_count": 10,
   "metadata": {
    "collapsed": false
   },
   "outputs": [
    {
     "data": {
      "text/plain": [
       "anime_id    0\n",
       "name        0\n",
       "genre       0\n",
       "type        0\n",
       "episodes    0\n",
       "rating      0\n",
       "members     0\n",
       "dtype: int64"
      ]
     },
     "execution_count": 10,
     "metadata": {},
     "output_type": "execute_result"
    }
   ],
   "source": [
    "# drop missing values\n",
    "\n",
    "anime = anime.dropna()\n",
    "anime.isnull().sum()\n"
   ]
  },
  {
   "cell_type": "markdown",
   "metadata": {},
   "source": [
    "Replace types of anime with integers per type. Everything must be numeric for the nearest neighbors algorithm."
   ]
  },
  {
   "cell_type": "code",
   "execution_count": 11,
   "metadata": {
    "collapsed": false
   },
   "outputs": [],
   "source": [
    "# replace 'type' with int \n",
    "anime = anime.replace({'type' : { 'TV': 1, 'OVA': 2, 'Movie' :3, 'Special' :4,\n",
    "                                 'ONA' :5, 'Music' :6}})\n"
   ]
  },
  {
   "cell_type": "code",
   "execution_count": 12,
   "metadata": {
    "collapsed": false
   },
   "outputs": [
    {
     "data": {
      "text/plain": [
       "0    3\n",
       "1    1\n",
       "2    1\n",
       "3    1\n",
       "4    1\n",
       "5    1\n",
       "6    1\n",
       "7    2\n",
       "8    3\n",
       "9    1\n",
       "Name: type, dtype: int64"
      ]
     },
     "execution_count": 12,
     "metadata": {},
     "output_type": "execute_result"
    }
   ],
   "source": [
    "anime.type[:10]"
   ]
  },
  {
   "cell_type": "markdown",
   "metadata": {},
   "source": [
    "### Time to mess with some dummies\n",
    "\n",
    "If we want to use 'genre' attribute we should make it more clear. Instead of replacing genres with numbers manually we will get the dummies. Let's take a look at genre column"
   ]
  },
  {
   "cell_type": "code",
   "execution_count": 13,
   "metadata": {
    "collapsed": false
   },
   "outputs": [
    {
     "data": {
      "text/plain": [
       "0                 Drama, Romance, School, Supernatural\n",
       "1    Action, Adventure, Drama, Fantasy, Magic, Mili...\n",
       "2    Action, Comedy, Historical, Parody, Samurai, S...\n",
       "3                                     Sci-Fi, Thriller\n",
       "4    Action, Comedy, Historical, Parody, Samurai, S...\n",
       "Name: genre, dtype: object"
      ]
     },
     "execution_count": 13,
     "metadata": {},
     "output_type": "execute_result"
    }
   ],
   "source": [
    "anime.genre[:5]"
   ]
  },
  {
   "cell_type": "markdown",
   "metadata": {},
   "source": [
    "Every movie has more than one characteristic genre. We don't know exactly the total number of genres. Moreover, we must split genres in every row of genre column and separate them from the others."
   ]
  },
  {
   "cell_type": "code",
   "execution_count": 14,
   "metadata": {
    "collapsed": false
   },
   "outputs": [
    {
     "data": {
      "text/html": [
       "<div>\n",
       "<table border=\"1\" class=\"dataframe\">\n",
       "  <thead>\n",
       "    <tr style=\"text-align: right;\">\n",
       "      <th></th>\n",
       "      <th>Action</th>\n",
       "      <th>Adventure</th>\n",
       "      <th>Cars</th>\n",
       "      <th>Comedy</th>\n",
       "      <th>Dementia</th>\n",
       "      <th>Demons</th>\n",
       "      <th>Drama</th>\n",
       "      <th>Ecchi</th>\n",
       "      <th>Fantasy</th>\n",
       "      <th>Game</th>\n",
       "      <th>...</th>\n",
       "      <th>Shounen Ai</th>\n",
       "      <th>Slice of Life</th>\n",
       "      <th>Space</th>\n",
       "      <th>Sports</th>\n",
       "      <th>Super Power</th>\n",
       "      <th>Supernatural</th>\n",
       "      <th>Thriller</th>\n",
       "      <th>Vampire</th>\n",
       "      <th>Yaoi</th>\n",
       "      <th>Yuri</th>\n",
       "    </tr>\n",
       "  </thead>\n",
       "  <tbody>\n",
       "    <tr>\n",
       "      <th>0</th>\n",
       "      <td>0</td>\n",
       "      <td>0</td>\n",
       "      <td>0</td>\n",
       "      <td>0</td>\n",
       "      <td>0</td>\n",
       "      <td>0</td>\n",
       "      <td>1</td>\n",
       "      <td>0</td>\n",
       "      <td>0</td>\n",
       "      <td>0</td>\n",
       "      <td>...</td>\n",
       "      <td>0</td>\n",
       "      <td>0</td>\n",
       "      <td>0</td>\n",
       "      <td>0</td>\n",
       "      <td>0</td>\n",
       "      <td>1</td>\n",
       "      <td>0</td>\n",
       "      <td>0</td>\n",
       "      <td>0</td>\n",
       "      <td>0</td>\n",
       "    </tr>\n",
       "    <tr>\n",
       "      <th>1</th>\n",
       "      <td>1</td>\n",
       "      <td>1</td>\n",
       "      <td>0</td>\n",
       "      <td>0</td>\n",
       "      <td>0</td>\n",
       "      <td>0</td>\n",
       "      <td>1</td>\n",
       "      <td>0</td>\n",
       "      <td>1</td>\n",
       "      <td>0</td>\n",
       "      <td>...</td>\n",
       "      <td>0</td>\n",
       "      <td>0</td>\n",
       "      <td>0</td>\n",
       "      <td>0</td>\n",
       "      <td>0</td>\n",
       "      <td>0</td>\n",
       "      <td>0</td>\n",
       "      <td>0</td>\n",
       "      <td>0</td>\n",
       "      <td>0</td>\n",
       "    </tr>\n",
       "    <tr>\n",
       "      <th>2</th>\n",
       "      <td>1</td>\n",
       "      <td>0</td>\n",
       "      <td>0</td>\n",
       "      <td>1</td>\n",
       "      <td>0</td>\n",
       "      <td>0</td>\n",
       "      <td>0</td>\n",
       "      <td>0</td>\n",
       "      <td>0</td>\n",
       "      <td>0</td>\n",
       "      <td>...</td>\n",
       "      <td>0</td>\n",
       "      <td>0</td>\n",
       "      <td>0</td>\n",
       "      <td>0</td>\n",
       "      <td>0</td>\n",
       "      <td>0</td>\n",
       "      <td>0</td>\n",
       "      <td>0</td>\n",
       "      <td>0</td>\n",
       "      <td>0</td>\n",
       "    </tr>\n",
       "    <tr>\n",
       "      <th>3</th>\n",
       "      <td>0</td>\n",
       "      <td>0</td>\n",
       "      <td>0</td>\n",
       "      <td>0</td>\n",
       "      <td>0</td>\n",
       "      <td>0</td>\n",
       "      <td>0</td>\n",
       "      <td>0</td>\n",
       "      <td>0</td>\n",
       "      <td>0</td>\n",
       "      <td>...</td>\n",
       "      <td>0</td>\n",
       "      <td>0</td>\n",
       "      <td>0</td>\n",
       "      <td>0</td>\n",
       "      <td>0</td>\n",
       "      <td>0</td>\n",
       "      <td>1</td>\n",
       "      <td>0</td>\n",
       "      <td>0</td>\n",
       "      <td>0</td>\n",
       "    </tr>\n",
       "    <tr>\n",
       "      <th>4</th>\n",
       "      <td>1</td>\n",
       "      <td>0</td>\n",
       "      <td>0</td>\n",
       "      <td>1</td>\n",
       "      <td>0</td>\n",
       "      <td>0</td>\n",
       "      <td>0</td>\n",
       "      <td>0</td>\n",
       "      <td>0</td>\n",
       "      <td>0</td>\n",
       "      <td>...</td>\n",
       "      <td>0</td>\n",
       "      <td>0</td>\n",
       "      <td>0</td>\n",
       "      <td>0</td>\n",
       "      <td>0</td>\n",
       "      <td>0</td>\n",
       "      <td>0</td>\n",
       "      <td>0</td>\n",
       "      <td>0</td>\n",
       "      <td>0</td>\n",
       "    </tr>\n",
       "  </tbody>\n",
       "</table>\n",
       "<p>5 rows × 43 columns</p>\n",
       "</div>"
      ],
      "text/plain": [
       "   Action  Adventure  Cars  Comedy  Dementia  Demons  Drama  Ecchi  Fantasy  \\\n",
       "0       0          0     0       0         0       0      1      0        0   \n",
       "1       1          1     0       0         0       0      1      0        1   \n",
       "2       1          0     0       1         0       0      0      0        0   \n",
       "3       0          0     0       0         0       0      0      0        0   \n",
       "4       1          0     0       1         0       0      0      0        0   \n",
       "\n",
       "   Game  ...   Shounen Ai  Slice of Life  Space  Sports  Super Power  \\\n",
       "0     0  ...            0              0      0       0            0   \n",
       "1     0  ...            0              0      0       0            0   \n",
       "2     0  ...            0              0      0       0            0   \n",
       "3     0  ...            0              0      0       0            0   \n",
       "4     0  ...            0              0      0       0            0   \n",
       "\n",
       "   Supernatural  Thriller  Vampire  Yaoi  Yuri  \n",
       "0             1         0        0     0     0  \n",
       "1             0         0        0     0     0  \n",
       "2             0         0        0     0     0  \n",
       "3             0         1        0     0     0  \n",
       "4             0         0        0     0     0  \n",
       "\n",
       "[5 rows x 43 columns]"
      ]
     },
     "execution_count": 14,
     "metadata": {},
     "output_type": "execute_result"
    }
   ],
   "source": [
    "genre_dummies = anime['genre'].str.get_dummies(sep=', ')\n",
    "genre_dummies[:5]"
   ]
  },
  {
   "cell_type": "markdown",
   "metadata": {},
   "source": [
    "We got 43 genres. Let's take a view of them"
   ]
  },
  {
   "cell_type": "code",
   "execution_count": 15,
   "metadata": {
    "collapsed": false
   },
   "outputs": [
    {
     "data": {
      "text/plain": [
       "Index(['Action', 'Adventure', 'Cars', 'Comedy', 'Dementia', 'Demons', 'Drama',\n",
       "       'Ecchi', 'Fantasy', 'Game', 'Harem', 'Hentai', 'Historical', 'Horror',\n",
       "       'Josei', 'Kids', 'Magic', 'Martial Arts', 'Mecha', 'Military', 'Music',\n",
       "       'Mystery', 'Parody', 'Police', 'Psychological', 'Romance', 'Samurai',\n",
       "       'School', 'Sci-Fi', 'Seinen', 'Shoujo', 'Shoujo Ai', 'Shounen',\n",
       "       'Shounen Ai', 'Slice of Life', 'Space', 'Sports', 'Super Power',\n",
       "       'Supernatural', 'Thriller', 'Vampire', 'Yaoi', 'Yuri'],\n",
       "      dtype='object')"
      ]
     },
     "execution_count": 15,
     "metadata": {},
     "output_type": "execute_result"
    }
   ],
   "source": [
    "genre_dummies.columns"
   ]
  },
  {
   "cell_type": "markdown",
   "metadata": {},
   "source": [
    "#### Final Dataset"
   ]
  },
  {
   "cell_type": "code",
   "execution_count": 16,
   "metadata": {
    "collapsed": false
   },
   "outputs": [
    {
     "data": {
      "text/html": [
       "<div>\n",
       "<table border=\"1\" class=\"dataframe\">\n",
       "  <thead>\n",
       "    <tr style=\"text-align: right;\">\n",
       "      <th></th>\n",
       "      <th>anime_id</th>\n",
       "      <th>name</th>\n",
       "      <th>genre</th>\n",
       "      <th>type</th>\n",
       "      <th>episodes</th>\n",
       "      <th>rating</th>\n",
       "      <th>members</th>\n",
       "      <th>Action</th>\n",
       "      <th>Adventure</th>\n",
       "      <th>Cars</th>\n",
       "      <th>...</th>\n",
       "      <th>Shounen Ai</th>\n",
       "      <th>Slice of Life</th>\n",
       "      <th>Space</th>\n",
       "      <th>Sports</th>\n",
       "      <th>Super Power</th>\n",
       "      <th>Supernatural</th>\n",
       "      <th>Thriller</th>\n",
       "      <th>Vampire</th>\n",
       "      <th>Yaoi</th>\n",
       "      <th>Yuri</th>\n",
       "    </tr>\n",
       "  </thead>\n",
       "  <tbody>\n",
       "    <tr>\n",
       "      <th>0</th>\n",
       "      <td>32281</td>\n",
       "      <td>Kimi no Na wa.</td>\n",
       "      <td>Drama, Romance, School, Supernatural</td>\n",
       "      <td>3</td>\n",
       "      <td>1.0</td>\n",
       "      <td>9.37</td>\n",
       "      <td>200630</td>\n",
       "      <td>0</td>\n",
       "      <td>0</td>\n",
       "      <td>0</td>\n",
       "      <td>...</td>\n",
       "      <td>0</td>\n",
       "      <td>0</td>\n",
       "      <td>0</td>\n",
       "      <td>0</td>\n",
       "      <td>0</td>\n",
       "      <td>1</td>\n",
       "      <td>0</td>\n",
       "      <td>0</td>\n",
       "      <td>0</td>\n",
       "      <td>0</td>\n",
       "    </tr>\n",
       "    <tr>\n",
       "      <th>1</th>\n",
       "      <td>5114</td>\n",
       "      <td>Fullmetal Alchemist: Brotherhood</td>\n",
       "      <td>Action, Adventure, Drama, Fantasy, Magic, Mili...</td>\n",
       "      <td>1</td>\n",
       "      <td>64.0</td>\n",
       "      <td>9.26</td>\n",
       "      <td>793665</td>\n",
       "      <td>1</td>\n",
       "      <td>1</td>\n",
       "      <td>0</td>\n",
       "      <td>...</td>\n",
       "      <td>0</td>\n",
       "      <td>0</td>\n",
       "      <td>0</td>\n",
       "      <td>0</td>\n",
       "      <td>0</td>\n",
       "      <td>0</td>\n",
       "      <td>0</td>\n",
       "      <td>0</td>\n",
       "      <td>0</td>\n",
       "      <td>0</td>\n",
       "    </tr>\n",
       "  </tbody>\n",
       "</table>\n",
       "<p>2 rows × 50 columns</p>\n",
       "</div>"
      ],
      "text/plain": [
       "   anime_id                              name  \\\n",
       "0     32281                    Kimi no Na wa.   \n",
       "1      5114  Fullmetal Alchemist: Brotherhood   \n",
       "\n",
       "                                               genre  type  episodes  rating  \\\n",
       "0               Drama, Romance, School, Supernatural     3       1.0    9.37   \n",
       "1  Action, Adventure, Drama, Fantasy, Magic, Mili...     1      64.0    9.26   \n",
       "\n",
       "   members  Action  Adventure  Cars  ...   Shounen Ai  Slice of Life  Space  \\\n",
       "0   200630       0          0     0  ...            0              0      0   \n",
       "1   793665       1          1     0  ...            0              0      0   \n",
       "\n",
       "   Sports  Super Power  Supernatural  Thriller  Vampire  Yaoi  Yuri  \n",
       "0       0            0             1         0        0     0     0  \n",
       "1       0            0             0         0        0     0     0  \n",
       "\n",
       "[2 rows x 50 columns]"
      ]
     },
     "execution_count": 16,
     "metadata": {},
     "output_type": "execute_result"
    }
   ],
   "source": [
    "# new dataset with dummies\n",
    "\n",
    "final_df = pd.concat([anime, genre_dummies], axis=1)\n",
    "final_df.head(2)"
   ]
  },
  {
   "cell_type": "markdown",
   "metadata": {},
   "source": [
    "### Build the model\n",
    "\n",
    "We will follow these 3 simple steps before our job is done and start searching for recommendations.\n",
    "- Select the features we want to use as input. Anime ID, Name and the initial Genre column are no longer necessary.\n",
    "- Scale all the features with MaxAbsScaler. \n",
    "    - \"*This estimator scales and translates each feature individually such that the maximal absolute value of each feature in the training set will be 1.0. It does not shift/center the data, and thus does not destroy any sparsity.*\"\n",
    "- Select number of neighbors and run the model.\n",
    "    - **We will choose 6 neighbors as a parameter**. The first one is our 'search'. The next 5 neighbors are the nearest and we select them as recommendations.\n",
    "    \n",
    "That's all ... let's go!"
   ]
  },
  {
   "cell_type": "code",
   "execution_count": 17,
   "metadata": {
    "collapsed": true
   },
   "outputs": [],
   "source": [
    "# select features\n",
    "\n",
    "features = final_df.drop(['anime_id','name','genre'], axis=1)"
   ]
  },
  {
   "cell_type": "code",
   "execution_count": 18,
   "metadata": {
    "collapsed": true
   },
   "outputs": [],
   "source": [
    "# scale features\n",
    "\n",
    "from sklearn.preprocessing import MaxAbsScaler\n",
    "\n",
    "scaler = MaxAbsScaler()\n",
    "\n",
    "scaled_feats = scaler.fit_transform(features)"
   ]
  },
  {
   "cell_type": "code",
   "execution_count": 19,
   "metadata": {
    "collapsed": true
   },
   "outputs": [],
   "source": [
    "# nearest neighbors, this may take a few seconds\n",
    "\n",
    "from sklearn.neighbors import  NearestNeighbors\n",
    "\n",
    "nbrs = NearestNeighbors(n_neighbors = 6, algorithm = 'ball_tree').fit(scaled_feats)\n",
    "\n",
    "distances, indices = nbrs.kneighbors(scaled_feats)"
   ]
  },
  {
   "cell_type": "code",
   "execution_count": 20,
   "metadata": {
    "collapsed": true
   },
   "outputs": [],
   "source": [
    "# build a recommendation function\n",
    "\n",
    "def find_movies(movie):\n",
    "    distances[movie]\n",
    "    indices[movie]\n",
    "    print('If you liked ', anime.iloc[movie][1],', we also recommend :')\n",
    "    for m in indices[movie][1:]:\n",
    "        print(anime.iloc[m][1],'\\nCategory: ', anime.iloc[m][2],\n",
    "          '\\nRating',anime.iloc[m][5])\n",
    "        if anime.iloc[m][3]==1:\n",
    "            print('TV')\n",
    "        elif anime.iloc[m][3]==2:\n",
    "            print('OVA')\n",
    "        elif anime.iloc[m][3]==3:\n",
    "            print('Movie')\n",
    "        elif anime.iloc[m][3]==4:\n",
    "            print('Special')\n",
    "        elif anime.iloc[m][3]==5:\n",
    "            print('ONA')\n",
    "        else:\n",
    "            print('Music')\n",
    "        \n",
    "        print('# # #')\n",
    "    return(movie)"
   ]
  },
  {
   "cell_type": "code",
   "execution_count": 21,
   "metadata": {
    "collapsed": false
   },
   "outputs": [
    {
     "name": "stdout",
     "output_type": "stream",
     "text": [
      "If you liked  Akagami no Shirayuki-hime 2nd Season , we also recommend :\n",
      "Akagami no Shirayuki-hime \n",
      "Category:  Drama, Fantasy, Romance, Shoujo \n",
      "Rating 7.93\n",
      "TV\n",
      "# # #\n",
      "Akagami no Shirayuki-hime: Nandemonai Takaramono, Kono Page \n",
      "Category:  Drama, Fantasy, Romance, Shoujo \n",
      "Rating 7.77\n",
      "OVA\n",
      "# # #\n",
      "Hanasakeru Seishounen \n",
      "Category:  Drama, Romance, Shoujo \n",
      "Rating 7.9\n",
      "TV\n",
      "# # #\n",
      "Glass no Kamen \n",
      "Category:  Drama, Romance, Shoujo \n",
      "Rating 7.52\n",
      "TV\n",
      "# # #\n",
      "Koisuru Tenshi Angelique: Kagayaki no Ashita \n",
      "Category:  Drama, Fantasy, Harem, Romance, Shoujo \n",
      "Rating 7.19\n",
      "TV\n",
      "# # #\n"
     ]
    },
    {
     "data": {
      "text/plain": [
       "367"
      ]
     },
     "execution_count": 21,
     "metadata": {},
     "output_type": "execute_result"
    }
   ],
   "source": [
    "# find movies by its index\n",
    "\n",
    "find_movies(367)"
   ]
  },
  {
   "cell_type": "markdown",
   "metadata": {},
   "source": [
    "Well, I think that our model works quite good. The five nearest anime to our search are pretty close to rating, genre and type. The first two recommendations are 100% similar to the anime we've watched. We could choose more neighbors but I think that It get's more confusnig for anime lovers. Like I said from the beginning this is a non-personalized recommendation system. This is to be done on the next collaborative filter projects!"
   ]
  },
  {
   "cell_type": "code",
   "execution_count": null,
   "metadata": {
    "collapsed": true
   },
   "outputs": [],
   "source": []
  }
 ],
 "metadata": {
  "kernelspec": {
   "display_name": "Python 3",
   "language": "python",
   "name": "python3"
  },
  "language_info": {
   "codemirror_mode": {
    "name": "ipython",
    "version": 3
   },
   "file_extension": ".py",
   "mimetype": "text/x-python",
   "name": "python",
   "nbconvert_exporter": "python",
   "pygments_lexer": "ipython3",
   "version": "3.6.0"
  }
 },
 "nbformat": 4,
 "nbformat_minor": 2
}
